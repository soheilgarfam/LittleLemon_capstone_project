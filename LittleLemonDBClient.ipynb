{
 "cells": [
  {
   "cell_type": "code",
   "execution_count": null,
   "id": "7b286f81",
   "metadata": {},
   "outputs": [],
   "source": [
    "# !pip install mysql-connector-python"
   ]
  },
  {
   "cell_type": "code",
   "execution_count": 19,
   "id": "ba45583f",
   "metadata": {
    "scrolled": true
   },
   "outputs": [],
   "source": [
    "import mysql.connector as connector\n",
    "from mysql.connector import errorcode"
   ]
  },
  {
   "cell_type": "code",
   "execution_count": 40,
   "id": "0d953b21",
   "metadata": {},
   "outputs": [],
   "source": [
    "try:\n",
    "    connection = connector.connect(user=\"admin\", password=\"0000\") \n",
    "    \n",
    "except connector.Error as er:\n",
    "    if er.errno == errorcode.ER_ACCESS_DENIED_ERROR:\n",
    "        print(\"incorrect username or password\")\n",
    "    elif er.errno == errorcode.ER_BAD_DB_ERROR:\n",
    "        print(\"Database not found\")\n",
    "    else:\n",
    "        print(\"Erro: \", er.errno, \" - \", er.msg)\n",
    "\n",
    "# Confirming\n",
    "connection.database "
   ]
  },
  {
   "cell_type": "code",
   "execution_count": 41,
   "id": "1a565c40",
   "metadata": {},
   "outputs": [],
   "source": [
    "cursor = connection.cursor()"
   ]
  },
  {
   "cell_type": "code",
   "execution_count": 42,
   "id": "38749afe",
   "metadata": {},
   "outputs": [
    {
     "name": "stdout",
     "output_type": "stream",
     "text": [
      "('globalsuperstoredb',)\n",
      "('information_schema',)\n",
      "('little_demon',)\n",
      "('little_demon_prova',)\n",
      "('little_lemon',)\n",
      "('little_lemon_db',)\n",
      "('little_lemon_dbc',)\n",
      "('littlelemondb',)\n",
      "('lucky_shrub',)\n",
      "('mgschema',)\n",
      "('mysql',)\n",
      "('performance_schema',)\n",
      "('sakila',)\n",
      "('sys',)\n",
      "('world',)\n"
     ]
    }
   ],
   "source": [
    "#See if there are already batabses\n",
    "cursor.execute(\"SHOW DATABASES\")\n",
    "databases = cursor.fetchall()\n",
    "for database in databases:\n",
    "    print(database)"
   ]
  },
  {
   "cell_type": "code",
   "execution_count": 43,
   "id": "4ba489bd",
   "metadata": {},
   "outputs": [],
   "source": [
    "select_db_query = \"USE littlelemondb\"\n",
    "cursor.execute(select_db_query)"
   ]
  },
  {
   "cell_type": "code",
   "execution_count": 44,
   "id": "b57ce2a1",
   "metadata": {},
   "outputs": [
    {
     "name": "stdout",
     "output_type": "stream",
     "text": [
      "('bookings',)\n",
      "('customers',)\n",
      "('employees',)\n",
      "('log',)\n",
      "('maisvendidos',)\n",
      "('menu',)\n",
      "('orderdetails',)\n",
      "('orders',)\n",
      "('orderviews',)\n",
      "('preferidos',)\n"
     ]
    }
   ],
   "source": [
    "show_tables_query = \"SHOW tables\" \n",
    "cursor.execute(show_tables_query)\n",
    "tables = cursor.fetchall()\n",
    "for table in tables:\n",
    "    print(table)"
   ]
  },
  {
   "cell_type": "code",
   "execution_count": 45,
   "id": "41a7932a",
   "metadata": {},
   "outputs": [
    {
     "name": "stdout",
     "output_type": "stream",
     "text": [
      "('FullName', 'Contact', 'Email', 'Total')\n",
      "('Carla  Fernandes', '999999999', 'carla@fernandes.com', Decimal('41.00'))\n",
      "('Gina Indelicada', '966666666', 'gina@indelicada.com', Decimal('71.00'))\n"
     ]
    }
   ],
   "source": [
    "order_above25 = \"\"\"\n",
    "SELECT CONCAT(c.FirstName, ' ',c.LastName) AS FullName, c.Contact, c.Email, o.Total\n",
    "FROM customers AS c\n",
    "INNER JOIN bookings AS b ON c.CustomerID = b.CustomerID\n",
    "INNER JOIN orders AS o ON b.BookingID = o.BookingID \n",
    "WHERE o.Total > 25\"\"\"\n",
    "cursor.execute(order_above25)\n",
    "orders = cursor.fetchall()\n",
    "order_columns = cursor.column_names\n",
    "print(order_columns)\n",
    "for i in orders:\n",
    "    print(i)"
   ]
  }
 ],
 "metadata": {
  "kernelspec": {
   "display_name": "Python 3 (ipykernel)",
   "language": "python",
   "name": "python3"
  },
  "language_info": {
   "codemirror_mode": {
    "name": "ipython",
    "version": 3
   },
   "file_extension": ".py",
   "mimetype": "text/x-python",
   "name": "python",
   "nbconvert_exporter": "python",
   "pygments_lexer": "ipython3",
   "version": "3.9.13"
  }
 },
 "nbformat": 4,
 "nbformat_minor": 5
}
